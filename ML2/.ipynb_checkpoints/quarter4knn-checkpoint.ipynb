{
 "cells": [
  {
   "cell_type": "code",
   "execution_count": 10,
   "metadata": {},
   "outputs": [],
   "source": [
    "import numpy as np # linear algebra\n",
    "import pandas as pd # data processing, CSV file I/O (e.g. pd.read_csv)\n",
    "import numpy as np\n",
    "import matplotlib.pyplot as plt\n",
    "import math\n",
    "import scipy.stats\n",
    "%matplotlib inline"
   ]
  },
  {
   "cell_type": "code",
   "execution_count": 12,
   "metadata": {
    "scrolled": false
   },
   "outputs": [
    {
     "name": "stdout",
     "output_type": "stream",
     "text": [
      "     Age  EstimatedSalary  Purchased\n",
      "0     19            19000          0\n",
      "1     35            20000          0\n",
      "2     26            43000          0\n",
      "3     27            57000          0\n",
      "4     19            76000          0\n",
      "..   ...              ...        ...\n",
      "395   46            41000          1\n",
      "396   51            23000          1\n",
      "397   50            20000          1\n",
      "398   36            33000          0\n",
      "399   49            36000          1\n",
      "\n",
      "[400 rows x 3 columns]\n"
     ]
    }
   ],
   "source": [
    "df = pd.read_csv ('SocialNetworkAds.csv')\n",
    "print(df)"
   ]
  },
  {
   "cell_type": "code",
   "execution_count": 13,
   "metadata": {},
   "outputs": [
    {
     "data": {
      "text/plain": [
       "<matplotlib.legend.Legend at 0x7ff6a861b9d0>"
      ]
     },
     "execution_count": 13,
     "metadata": {},
     "output_type": "execute_result"
    },
    {
     "data": {
      "image/png": "[encoded data removed]",
      "text/plain": [
       "<Figure size 432x288 with 1 Axes>"
      ]
     },
     "metadata": {
      "needs_background": "light"
     },
     "output_type": "display_data"
    }
   ],
   "source": [
    "bool1 = df['Purchased'] == 1\n",
    "bool2 = df['Purchased'] == 0\n",
    "\n",
    "isp = df[bool1] #ispurchased\n",
    "nop = df[bool2] #notpurchased\n",
    "\n",
    "\n",
    "plt.plot(isp.loc[:,\"Age\"], isp.loc[:,\"EstimatedSalary\"], color='blue', marker='o',linestyle = \"none\", label = \"Purchased\" )\n",
    "plt.plot(nop.loc[:,\"Age\"], nop.loc[:,\"EstimatedSalary\"], color='red', marker='x',linestyle = \"none\", label = \"Not Purchased\")\n",
    "plt.legend()"
   ]
  },
  {
   "cell_type": "code",
   "execution_count": 14,
   "metadata": {},
   "outputs": [
    {
     "data": {
      "text/plain": [
       "(400, 2)"
      ]
     },
     "execution_count": 14,
     "metadata": {},
     "output_type": "execute_result"
    }
   ],
   "source": [
    "from sklearn . linear_model import LogisticRegression\n",
    "\n",
    "from sklearn.neighbors import KNeighborsClassifier\n",
    "\n",
    "all = df\n",
    "people = all\n",
    "people.dropna()\n",
    "x = np.array([all[\"Age\"].tolist(),all[\"EstimatedSalary\"].tolist(),])\n",
    "fx = people[\"Purchased\"].tolist()\n",
    "x = x.transpose()\n",
    "x.shape"
   ]
  },
  {
   "cell_type": "code",
   "execution_count": 5,
   "metadata": {},
   "outputs": [
    {
     "data": {
      "text/plain": [
       "KNeighborsClassifier(n_neighbors=4)"
      ]
     },
     "execution_count": 5,
     "metadata": {},
     "output_type": "execute_result"
    }
   ],
   "source": [
    "clf = KNeighborsClassifier(n_neighbors=4) #K = 10\n",
    "clf.fit(x, fx)"
   ]
  },
  {
   "cell_type": "code",
   "execution_count": 6,
   "metadata": {},
   "outputs": [
    {
     "name": "stdout",
     "output_type": "stream",
     "text": [
      "608\n",
      "608\n"
     ]
    },
    {
     "data": {
      "text/html": [
       "<div>\n",
       "<style scoped>\n",
       "    .dataframe tbody tr th:only-of-type {\n",
       "        vertical-align: middle;\n",
       "    }\n",
       "\n",
       "    .dataframe tbody tr th {\n",
       "        vertical-align: top;\n",
       "    }\n",
       "\n",
       "    .dataframe thead th {\n",
       "        text-align: right;\n",
       "    }\n",
       "</style>\n",
       "<table border=\"1\" class=\"dataframe\">\n",
       "  <thead>\n",
       "    <tr style=\"text-align: right;\">\n",
       "      <th></th>\n",
       "      <th>Age</th>\n",
       "      <th>EstimatedSalary</th>\n",
       "    </tr>\n",
       "  </thead>\n",
       "  <tbody>\n",
       "    <tr>\n",
       "      <th>0</th>\n",
       "      <td>0</td>\n",
       "      <td>0</td>\n",
       "    </tr>\n",
       "    <tr>\n",
       "      <th>1</th>\n",
       "      <td>0</td>\n",
       "      <td>8000</td>\n",
       "    </tr>\n",
       "    <tr>\n",
       "      <th>2</th>\n",
       "      <td>0</td>\n",
       "      <td>16000</td>\n",
       "    </tr>\n",
       "    <tr>\n",
       "      <th>3</th>\n",
       "      <td>0</td>\n",
       "      <td>24000</td>\n",
       "    </tr>\n",
       "    <tr>\n",
       "      <th>4</th>\n",
       "      <td>0</td>\n",
       "      <td>32000</td>\n",
       "    </tr>\n",
       "    <tr>\n",
       "      <th>...</th>\n",
       "      <td>...</td>\n",
       "      <td>...</td>\n",
       "    </tr>\n",
       "    <tr>\n",
       "      <th>603</th>\n",
       "      <td>62</td>\n",
       "      <td>112000</td>\n",
       "    </tr>\n",
       "    <tr>\n",
       "      <th>604</th>\n",
       "      <td>62</td>\n",
       "      <td>120000</td>\n",
       "    </tr>\n",
       "    <tr>\n",
       "      <th>605</th>\n",
       "      <td>62</td>\n",
       "      <td>128000</td>\n",
       "    </tr>\n",
       "    <tr>\n",
       "      <th>606</th>\n",
       "      <td>62</td>\n",
       "      <td>136000</td>\n",
       "    </tr>\n",
       "    <tr>\n",
       "      <th>607</th>\n",
       "      <td>62</td>\n",
       "      <td>144000</td>\n",
       "    </tr>\n",
       "  </tbody>\n",
       "</table>\n",
       "<p>608 rows × 2 columns</p>\n",
       "</div>"
      ],
      "text/plain": [
       "     Age  EstimatedSalary\n",
       "0      0                0\n",
       "1      0             8000\n",
       "2      0            16000\n",
       "3      0            24000\n",
       "4      0            32000\n",
       "..   ...              ...\n",
       "603   62           112000\n",
       "604   62           120000\n",
       "605   62           128000\n",
       "606   62           136000\n",
       "607   62           144000\n",
       "\n",
       "[608 rows x 2 columns]"
      ]
     },
     "execution_count": 6,
     "metadata": {},
     "output_type": "execute_result"
    }
   ],
   "source": [
    "ages = [x for x in range(0,64,2) for z in range(0,150000,8000)]\n",
    "money = [y  for z in range(0,64,2) for y in range(0,150000,8000)]\n",
    "print(len(ages))\n",
    "print(len(money))\n",
    "data = {'Age' : list(ages), 'EstimatedSalary' : list(money)}\n",
    "nf = pd.DataFrame(data)\n",
    "nf"
   ]
  },
  {
   "cell_type": "code",
   "execution_count": 18,
   "metadata": {},
   "outputs": [],
   "source": [
    "bozo = [nf[\"Age\"].tolist(),nf[\"EstimatedSalary\"].tolist()]\n",
    "bozo = np.array(bozo)\n",
    "bozo = bozo.transpose()\n",
    "bozo.shape\n",
    "results = clf.predict(bozo)"
   ]
  },
  {
   "cell_type": "code",
   "execution_count": 19,
   "metadata": {},
   "outputs": [
    {
     "data": {
      "text/plain": [
       "<matplotlib.legend.Legend at 0x7ff25aa00ca0>"
      ]
     },
     "execution_count": 19,
     "metadata": {},
     "output_type": "execute_result"
    },
    {
     "data": {
      "image/png": "[encoded data removed]",
      "text/plain": [
       "<Figure size 432x288 with 1 Axes>"
      ]
     },
     "metadata": {
      "needs_background": "light"
     },
     "output_type": "display_data"
    }
   ],
   "source": [
    "\n",
    "nf['predicted_value'] = results\n",
    "nf\n",
    "\n",
    "bool11 = nf['predicted_value'] == 1\n",
    "bool21 = nf['predicted_value'] == 0\n",
    "\n",
    "isp2 = nf[bool11] #ispurchased\n",
    "nop2 = nf[bool21] #notpurchased\n",
    "\n",
    "\n",
    "plt.plot(isp2.loc[:,\"Age\"], isp2.loc[:,\"EstimatedSalary\"], color='blue', marker='o',linestyle = \"none\", label = \"Purchased\" )\n",
    "plt.plot(nop2.loc[:,\"Age\"], nop2.loc[:,\"EstimatedSalary\"], color='red', marker='x',linestyle = \"none\", label = \"Not Purchased\")\n",
    "plt.xlabel(\"Age\")\n",
    "plt.ylabel(\"Estimated Salary\")\n",
    "plt.legend()\n"
   ]
  },
  {
   "cell_type": "markdown",
   "metadata": {},
   "source": [
    "Lab 2 \n",
    "\n",
    "four subsets of the data are:\n",
    "\n",
    "ages where output is 0\n",
    "\n",
    "ages where output is 1\n",
    "\n",
    "est $ where output is 0\n",
    "\n",
    "est $ where output is 1\n",
    "\n",
    " \n",
    "\n",
    "each subset:\n",
    "\n",
    "calculate mean and standard deviation\n",
    "\n",
    " \n",
    "\n",
    "plot an overlay:\n",
    "\n",
    "histogram, and Gaussian\n",
    "\n",
    "...for each subest\n",
    "\n",
    " \n",
    "\n",
    "matplotlib\n",
    "\n",
    "hist() will plot a histogram\n",
    "\n",
    "option: density=True\n",
    "\n",
    "otherwise the y-scale will not match"
   ]
  },
  {
   "cell_type": "code",
   "execution_count": 20,
   "metadata": {},
   "outputs": [],
   "source": [
    "import numpy as np\n",
    "import matplotlib.pyplot as plt\n",
    "from scipy.stats import norm\n",
    "import statistics"
   ]
  },
  {
   "cell_type": "code",
   "execution_count": 21,
   "metadata": {},
   "outputs": [],
   "source": [
    "nop_ages = nop.loc[:,\"Age\"] #age for zero \n",
    "isp_ages = isp.loc[:,\"Age\"]  #age for 1\n",
    "nop_sal = nop.loc[:,\"EstimatedSalary\"] #salary for zero\n",
    "isp_sal = isp.loc[:,\"EstimatedSalary\"] #salary for one\n"
   ]
  },
  {
   "cell_type": "code",
   "execution_count": 24,
   "metadata": {},
   "outputs": [
    {
     "name": "stdout",
     "output_type": "stream",
     "text": [
      "Ages for Consumers Who Made Purchases\n",
      "Mean: 46.39160839160839\n",
      "Standard Deviation: 8.582006680946927\n"
     ]
    },
    {
     "data": {
      "image/png": "[encoded data removed]",
      "text/plain": [
       "<Figure size 432x288 with 1 Axes>"
      ]
     },
     "metadata": {
      "needs_background": "light"
     },
     "output_type": "display_data"
    }
   ],
   "source": [
    "print(\"Ages for Consumers Who Did Not Make Purchases\")\n",
    "print(\"Mean: \" + str(np.mean(nop_ages)))\n",
    "print(\"Standard Deviation: \" + str(np.std(nop_ages)))\n",
    "print()\n",
    "print()\n",
    "plt.hist(nop_ages, color = 'blue', density = True)\n",
    "plt.xlabel(\"Ages for Consumers Who Did Not Make Purchases\")\n",
    "plt.plot(nop_ages, norm.pdf(nop_ages, np.mean(nop_ages), np.std(nop_ages)))\n",
    "xmin, xmax = plt.xlim()\n",
    "x = np.linspace(xmin, xmax, 100)\n",
    "p = norm.pdf(x, np.mean(nop_ages), np.std(nop_ages))\n",
    "plt.plot(x, p, 'k', linewidth=2)\n",
    "plt.show()\n",
    "\n",
    "\n",
    "\n",
    "print(\"Ages for Consumers Who Made Purchases\")\n",
    "print(\"Mean: \" + str(np.mean(isp_ages)))\n",
    "print(\"Standard Deviation: \" + str(np.std(isp_ages)))\n",
    "plt.hist(isp_ages, color = 'red', density = True)\n",
    "plt.xlabel(\"Ages for Customers Who Made Purchases\")\n",
    "xmin, xmax = plt.xlim()\n",
    "x = np.linspace(xmin, xmax, 100)\n",
    "p = norm.pdf(x, np.mean(isp_ages), np.std(isp_ages))\n",
    "plt.plot(x, p, 'k', linewidth=2)\n",
    "plt.show()\n",
    "\n",
    "\n",
    "print(\"Estimated Salary for Customers Who Did Not Make Purchases\")\n",
    "print(\"Mean: \" + str(np.mean(nop_sal)))\n",
    "print(\"Standard Deviation: \" + str(np.std(nop_sal)))\n",
    "plt.hist(nop_sal, color = 'green', density = True)\n",
    "plt.xlabel(\"Estimated Salaries for Customers Who Made Purchases\")\n",
    "plt.plot(nop_sal, norm.pdf(nop_sal, np.mean(nop_sal), np.std(nop_sal)))\n",
    "xmin, xmax = plt.xlim()\n",
    "x = np.linspace(xmin, xmax, 100)\n",
    "p = norm.pdf(x, np.mean(nop_sal), np.std(nop_sal))\n",
    "plt.plot(x, p, 'k', linewidth=2)\n",
    "plt.show()\n",
    "\n",
    "\n",
    "print(\"Estimated Salaries for Customers Who Made Purchases\")\n",
    "print(\"Mean: \" + str(np.mean(isp_sal)))\n",
    "print(\"Standard Deviation: \" + str(np.std(isp_sal)))\n",
    "plt.hist(isp_sal, color = 'violet', density = True)\n",
    "plt.xlabel(\"Estimated Salaries for Customers Who Made Purchases\")\n",
    "plt.plot(isp_sal, norm.pdf(isp_sal, np.mean(isp_sal), np.std(isp_sal)))\n",
    "xmin, xmax = plt.xlim()\n",
    "x = np.linspace(xmin, xmax, 100)\n",
    "p = norm.pdf(x, np.mean(isp_sal), np.std(isp_sal))\n",
    "plt.plot(x, p, 'k', linewidth=2)\n",
    "plt.show()"
   ]
  },
  {
   "cell_type": "code",
   "execution_count": null,
   "metadata": {},
   "outputs": [],
   "source": []
  }
 ],
 "metadata": {
  "interpreter": {
   "hash": "aee8b7b246df8f9039afb4144a1f6fd8d2ca17a180786b69acc140d282b71a49"
  },
  "kernelspec": {
   "display_name": "Python 3 (ipykernel)",
   "language": "python",
   "name": "python3"
  },
  "language_info": {
   "codemirror_mode": {
    "name": "ipython",
    "version": 3
   },
   "file_extension": ".py",
   "mimetype": "text/x-python",
   "name": "python",
   "nbconvert_exporter": "python",
   "pygments_lexer": "ipython3",
   "version": "3.8.3"
  }
 },
 "nbformat": 4,
 "nbformat_minor": 2
}
