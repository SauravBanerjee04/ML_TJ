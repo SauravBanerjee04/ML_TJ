{
 "cells": [
  {
   "cell_type": "code",
   "execution_count": 1,
   "metadata": {},
   "outputs": [],
   "source": [
    "import numpy as np # linear algebra\n",
    "import pandas as pd # data processing, CSV file I/O (e.g. pd.read_csv)\n",
    "import numpy as np\n",
    "import matplotlib.pyplot as plt\n",
    "import math\n",
    "import scipy.stats\n",
    "%matplotlib inline"
   ]
  },
  {
   "cell_type": "code",
   "execution_count": 2,
   "metadata": {
    "scrolled": false
   },
   "outputs": [
    {
     "name": "stdout",
     "output_type": "stream",
     "text": [
      "     Age  EstimatedSalary  Purchased\n",
      "0     19            19000          0\n",
      "1     35            20000          0\n",
      "2     26            43000          0\n",
      "3     27            57000          0\n",
      "4     19            76000          0\n",
      "..   ...              ...        ...\n",
      "395   46            41000          1\n",
      "396   51            23000          1\n",
      "397   50            20000          1\n",
      "398   36            33000          0\n",
      "399   49            36000          1\n",
      "\n",
      "[400 rows x 3 columns]\n"
     ]
    }
   ],
   "source": [
    "df = pd.read_csv ('SocialNetworkAds.csv')\n",
    "print(df)"
   ]
  },
  {
   "cell_type": "code",
   "execution_count": 3,
   "metadata": {},
   "outputs": [
    {
     "data": {
      "text/plain": [
       "<matplotlib.legend.Legend at 0x20f439aeac0>"
      ]
     },
     "execution_count": 3,
     "metadata": {},
     "output_type": "execute_result"
    },
    {
     "data": {
      "image/png": "[encoded data removed]",
      "text/plain": [
       "<Figure size 432x288 with 1 Axes>"
      ]
     },
     "metadata": {
      "needs_background": "light"
     },
     "output_type": "display_data"
    }
   ],
   "source": [
    "bool1 = df['Purchased'] == 1\n",
    "bool2 = df['Purchased'] == 0\n",
    "\n",
    "isp = df[bool1] #ispurchased\n",
    "nop = df[bool2] #notpurchased\n",
    "\n",
    "\n",
    "plt.plot(isp.loc[:,\"Age\"], isp.loc[:,\"EstimatedSalary\"], color='blue', marker='o',linestyle = \"none\", label = \"Purchased\" )\n",
    "plt.plot(nop.loc[:,\"Age\"], nop.loc[:,\"EstimatedSalary\"], color='red', marker='x',linestyle = \"none\", label = \"Not Purchased\")\n",
    "plt.legend()"
   ]
  },
  {
   "cell_type": "code",
   "execution_count": 4,
   "metadata": {},
   "outputs": [
    {
     "data": {
      "text/plain": [
       "(400, 2)"
      ]
     },
     "execution_count": 4,
     "metadata": {},
     "output_type": "execute_result"
    }
   ],
   "source": [
    "from sklearn . linear_model import LogisticRegression\n",
    "\n",
    "from sklearn.neighbors import KNeighborsClassifier\n",
    "\n",
    "all = df\n",
    "people = all\n",
    "people.dropna()\n",
    "x = np.array([all[\"Age\"].tolist(),all[\"EstimatedSalary\"].tolist(),])\n",
    "fx = people[\"Purchased\"].tolist()\n",
    "x = x.transpose()\n",
    "x.shape"
   ]
  },
  {
   "cell_type": "code",
   "execution_count": 5,
   "metadata": {},
   "outputs": [
    {
     "data": {
      "text/plain": [
       "KNeighborsClassifier(n_neighbors=4)"
      ]
     },
     "execution_count": 5,
     "metadata": {},
     "output_type": "execute_result"
    }
   ],
   "source": [
    "clf = KNeighborsClassifier(n_neighbors=4) #K = 10\n",
    "clf.fit(x, fx)"
   ]
  },
  {
   "cell_type": "code",
   "execution_count": 6,
   "metadata": {},
   "outputs": [
    {
     "name": "stdout",
     "output_type": "stream",
     "text": [
      "608\n",
      "608\n"
     ]
    },
    {
     "data": {
      "text/html": [
       "<div>\n",
       "<style scoped>\n",
       "    .dataframe tbody tr th:only-of-type {\n",
       "        vertical-align: middle;\n",
       "    }\n",
       "\n",
       "    .dataframe tbody tr th {\n",
       "        vertical-align: top;\n",
       "    }\n",
       "\n",
       "    .dataframe thead th {\n",
       "        text-align: right;\n",
       "    }\n",
       "</style>\n",
       "<table border=\"1\" class=\"dataframe\">\n",
       "  <thead>\n",
       "    <tr style=\"text-align: right;\">\n",
       "      <th></th>\n",
       "      <th>Age</th>\n",
       "      <th>EstimatedSalary</th>\n",
       "    </tr>\n",
       "  </thead>\n",
       "  <tbody>\n",
       "    <tr>\n",
       "      <th>0</th>\n",
       "      <td>0</td>\n",
       "      <td>0</td>\n",
       "    </tr>\n",
       "    <tr>\n",
       "      <th>1</th>\n",
       "      <td>0</td>\n",
       "      <td>8000</td>\n",
       "    </tr>\n",
       "    <tr>\n",
       "      <th>2</th>\n",
       "      <td>0</td>\n",
       "      <td>16000</td>\n",
       "    </tr>\n",
       "    <tr>\n",
       "      <th>3</th>\n",
       "      <td>0</td>\n",
       "      <td>24000</td>\n",
       "    </tr>\n",
       "    <tr>\n",
       "      <th>4</th>\n",
       "      <td>0</td>\n",
       "      <td>32000</td>\n",
       "    </tr>\n",
       "    <tr>\n",
       "      <th>...</th>\n",
       "      <td>...</td>\n",
       "      <td>...</td>\n",
       "    </tr>\n",
       "    <tr>\n",
       "      <th>603</th>\n",
       "      <td>62</td>\n",
       "      <td>112000</td>\n",
       "    </tr>\n",
       "    <tr>\n",
       "      <th>604</th>\n",
       "      <td>62</td>\n",
       "      <td>120000</td>\n",
       "    </tr>\n",
       "    <tr>\n",
       "      <th>605</th>\n",
       "      <td>62</td>\n",
       "      <td>128000</td>\n",
       "    </tr>\n",
       "    <tr>\n",
       "      <th>606</th>\n",
       "      <td>62</td>\n",
       "      <td>136000</td>\n",
       "    </tr>\n",
       "    <tr>\n",
       "      <th>607</th>\n",
       "      <td>62</td>\n",
       "      <td>144000</td>\n",
       "    </tr>\n",
       "  </tbody>\n",
       "</table>\n",
       "<p>608 rows × 2 columns</p>\n",
       "</div>"
      ],
      "text/plain": [
       "     Age  EstimatedSalary\n",
       "0      0                0\n",
       "1      0             8000\n",
       "2      0            16000\n",
       "3      0            24000\n",
       "4      0            32000\n",
       "..   ...              ...\n",
       "603   62           112000\n",
       "604   62           120000\n",
       "605   62           128000\n",
       "606   62           136000\n",
       "607   62           144000\n",
       "\n",
       "[608 rows x 2 columns]"
      ]
     },
     "execution_count": 6,
     "metadata": {},
     "output_type": "execute_result"
    }
   ],
   "source": [
    "ages = [x for x in range(0,64,2) for z in range(0,150000,8000)]\n",
    "money = [y  for z in range(0,64,2) for y in range(0,150000,8000)]\n",
    "print(len(ages))\n",
    "print(len(money))\n",
    "data = {'Age' : list(ages), 'EstimatedSalary' : list(money)}\n",
    "nf = pd.DataFrame(data)\n",
    "nf"
   ]
  },
  {
   "cell_type": "code",
   "execution_count": 7,
   "metadata": {},
   "outputs": [],
   "source": [
    "bozo = [nf[\"Age\"].tolist(),nf[\"EstimatedSalary\"].tolist()]\n",
    "bozo = np.array(bozo)\n",
    "bozo = bozo.transpose()\n",
    "bozo.shape\n",
    "results = clf.predict(bozo)"
   ]
  },
  {
   "cell_type": "code",
   "execution_count": 8,
   "metadata": {},
   "outputs": [
    {
     "data": {
      "text/plain": [
       "<matplotlib.legend.Legend at 0x20f440cf940>"
      ]
     },
     "execution_count": 8,
     "metadata": {},
     "output_type": "execute_result"
    },
    {
     "data": {
      "image/png": "[encoded data removed]",
      "text/plain": [
       "<Figure size 432x288 with 1 Axes>"
      ]
     },
     "metadata": {
      "needs_background": "light"
     },
     "output_type": "display_data"
    }
   ],
   "source": [
    "\n",
    "nf['predicted_value'] = results\n",
    "nf\n",
    "\n",
    "bool11 = nf['predicted_value'] == 1\n",
    "bool21 = nf['predicted_value'] == 0\n",
    "\n",
    "isp2 = nf[bool11] #ispurchased\n",
    "nop2 = nf[bool21] #notpurchased\n",
    "\n",
    "\n",
    "plt.plot(isp2.loc[:,\"Age\"], isp2.loc[:,\"EstimatedSalary\"], color='blue', marker='o',linestyle = \"none\", label = \"Purchased\" )\n",
    "plt.plot(nop2.loc[:,\"Age\"], nop2.loc[:,\"EstimatedSalary\"], color='red', marker='x',linestyle = \"none\", label = \"Not Purchased\")\n",
    "plt.xlabel(\"Age\")\n",
    "plt.ylabel(\"Estimated Salary\")\n",
    "plt.legend()\n"
   ]
  },
  {
   "cell_type": "markdown",
   "metadata": {},
   "source": [
    "Lab 2 \n",
    "\n",
    "four subsets of the data are:\n",
    "\n",
    "ages where output is 0\n",
    "\n",
    "ages where output is 1\n",
    "\n",
    "est $ where output is 0\n",
    "\n",
    "est $ where output is 1\n",
    "\n",
    " \n",
    "\n",
    "each subset:\n",
    "\n",
    "calculate mean and standard deviation\n",
    "\n",
    " \n",
    "\n",
    "plot an overlay:\n",
    "\n",
    "histogram, and Gaussian\n",
    "\n",
    "...for each subest\n",
    "\n",
    " \n",
    "\n",
    "matplotlib\n",
    "\n",
    "hist() will plot a histogram\n",
    "\n",
    "option: density=True\n",
    "\n",
    "otherwise the y-scale will not match"
   ]
  },
  {
   "cell_type": "code",
   "execution_count": 9,
   "metadata": {},
   "outputs": [],
   "source": [
    "import numpy as np\n",
    "import matplotlib.pyplot as plt\n",
    "from scipy.stats import norm\n",
    "import statistics"
   ]
  },
  {
   "cell_type": "code",
   "execution_count": 10,
   "metadata": {},
   "outputs": [],
   "source": [
    "nop_ages = nop.loc[:,\"Age\"] #age for zero \n",
    "isp_ages = isp.loc[:,\"Age\"]  #age for 1\n",
    "nop_sal = nop.loc[:,\"EstimatedSalary\"] #salary for zero\n",
    "isp_sal = isp.loc[:,\"EstimatedSalary\"] #salary for one\n"
   ]
  },
  {
   "cell_type": "code",
   "execution_count": 11,
   "metadata": {},
   "outputs": [
    {
     "name": "stdout",
     "output_type": "stream",
     "text": [
      "Ages for Consumers Who Did Not Make Purchases\n",
      "Mean: 32.793774319066145\n",
      "Standard Deviation: 7.970292614059874\n",
      "\n",
      "\n"
     ]
    },
    {
     "data": {
      "image/png": "[encoded data removed]",
      "text/plain": [
       "<Figure size 432x288 with 1 Axes>"
      ]
     },
     "metadata": {
      "needs_background": "light"
     },
     "output_type": "display_data"
    },
    {
     "name": "stdout",
     "output_type": "stream",
     "text": [
      "Ages for Consumers Who Made Purchases\n",
      "Mean: 46.39160839160839\n",
      "Standard Deviation: 8.582006680946927\n"
     ]
    },
    {
     "data": {
      "image/png": "[encoded data removed]",
      "text/plain": [
       "<Figure size 432x288 with 1 Axes>"
      ]
     },
     "metadata": {
      "needs_background": "light"
     },
     "output_type": "display_data"
    },
    {
     "name": "stdout",
     "output_type": "stream",
     "text": [
      "Estimated Salary for Customers Who Did Not Make Purchases\n",
      "Mean: 60544.74708171206\n",
      "Standard Deviation: 24304.14733055277\n"
     ]
    },
    {
     "data": {
      "image/png": "[encoded data removed]",
      "text/plain": [
       "<Figure size 432x288 with 1 Axes>"
      ]
     },
     "metadata": {
      "needs_background": "light"
     },
     "output_type": "display_data"
    },
    {
     "name": "stdout",
     "output_type": "stream",
     "text": [
      "Estimated Salaries for Customers Who Made Purchases\n",
      "Mean: 86272.72727272728\n",
      "Standard Deviation: 41916.864409597874\n"
     ]
    },
    {
     "data": {
      "image/png": "[encoded data removed]",
      "text/plain": [
       "<Figure size 432x288 with 1 Axes>"
      ]
     },
     "metadata": {
      "needs_background": "light"
     },
     "output_type": "display_data"
    }
   ],
   "source": [
    "print(\"Ages for Consumers Who Did Not Make Purchases\")\n",
    "print(\"Mean: \" + str(np.mean(nop_ages)))\n",
    "print(\"Standard Deviation: \" + str(np.std(nop_ages)))\n",
    "print()\n",
    "print()\n",
    "plt.hist(nop_ages, color = 'blue', density = True)\n",
    "plt.xlabel(\"Ages for Consumers Who Did Not Make Purchases\")\n",
    "xmin, xmax = plt.xlim()\n",
    "x = np.linspace(xmin, xmax, 100)\n",
    "p = norm.pdf(x, np.mean(nop_ages), np.std(nop_ages))\n",
    "plt.plot(x, p, 'k', linewidth=2)\n",
    "plt.show()\n",
    "\n",
    "\n",
    "\n",
    "print(\"Ages for Consumers Who Made Purchases\")\n",
    "print(\"Mean: \" + str(np.mean(isp_ages)))\n",
    "print(\"Standard Deviation: \" + str(np.std(isp_ages)))\n",
    "plt.hist(isp_ages, color = 'red', density = True)\n",
    "plt.xlabel(\"Ages for Customers Who Made Purchases\")\n",
    "xmin, xmax = plt.xlim()\n",
    "x = np.linspace(xmin, xmax, 100)\n",
    "p = norm.pdf(x, np.mean(isp_ages), np.std(isp_ages))\n",
    "plt.plot(x, p, 'k', linewidth=2)\n",
    "plt.show()\n",
    "\n",
    "\n",
    "print(\"Estimated Salary for Customers Who Did Not Make Purchases\")\n",
    "print(\"Mean: \" + str(np.mean(nop_sal)))\n",
    "print(\"Standard Deviation: \" + str(np.std(nop_sal)))\n",
    "plt.hist(nop_sal, color = 'green', density = True)\n",
    "plt.xlabel(\"Estimated Salaries for Customers Who Made Purchases\")\n",
    "xmin, xmax = plt.xlim()\n",
    "x = np.linspace(xmin, xmax, 100)\n",
    "p = norm.pdf(x, np.mean(nop_sal), np.std(nop_sal))\n",
    "plt.plot(x, p, 'k', linewidth=2)\n",
    "plt.show()\n",
    "\n",
    "\n",
    "print(\"Estimated Salaries for Customers Who Made Purchases\")\n",
    "print(\"Mean: \" + str(np.mean(isp_sal)))\n",
    "print(\"Standard Deviation: \" + str(np.std(isp_sal)))\n",
    "plt.hist(isp_sal, color = 'violet', density = True)\n",
    "plt.xlabel(\"Estimated Salaries for Customers Who Made Purchases\")\n",
    "xmin, xmax = plt.xlim()\n",
    "x = np.linspace(xmin, xmax, 100)\n",
    "p = norm.pdf(x, np.mean(isp_sal), np.std(isp_sal))\n",
    "plt.plot(x, p, 'k', linewidth=2)\n",
    "plt.show()"
   ]
  },
  {
   "cell_type": "code",
   "execution_count": 12,
   "metadata": {},
   "outputs": [],
   "source": [
    "mean_nop_ages = np.mean(nop_ages)\n",
    "sd_nop_ages = np.std(nop_ages)\n",
    "\n",
    "mean_isp_ages = np.mean(isp_ages)\n",
    "sd_isp_ages = np.std(isp_ages)\n",
    "\n",
    "mean_nop_sal = np.mean(nop_sal)\n",
    "sd_nop_sal = np.std(nop_sal)\n",
    "\n",
    "mean_isp_sal= np.mean(isp_sal)\n",
    "sd_isp_sal = np.std(isp_sal)\n"
   ]
  },
  {
   "cell_type": "markdown",
   "metadata": {},
   "source": [
    "both P(output=0) and P(output=1) are easy\n",
    "\n",
    "- find n0, the number of 0 outputs in the dataset\n",
    "\n",
    "- find n1, the number of 1 outputs in the dataset\n",
    "\n",
    "- then n = n0 + n1 = 400\n",
    "\n",
    "- and P(output=0) = n0 / n\n",
    "\n",
    "- and P(output=1) = n1 / n"
   ]
  },
  {
   "cell_type": "code",
   "execution_count": 13,
   "metadata": {},
   "outputs": [],
   "source": [
    "n0 = len(nop_sal)\n",
    "n1 = len(isp_sal)\n",
    "n = n0 + n1\n",
    "p_zero = n0/n\n",
    "p_one = n1/n"
   ]
  },
  {
   "cell_type": "markdown",
   "metadata": {},
   "source": [
    "*** the conditional probabilities use the independence assumption ***\n",
    "\n",
    "P(x1,x2 | output=0) = P(x1 | output=0) * P(x2 | output=0)\n",
    "\n",
    "P(x1,x2 | output=1) = P(x1 | output=1) * P(x2 | output=1)\n",
    "\n",
    "but...\n",
    "\n",
    "P(x1 | output=0) etc are exactly the Gaussian curves we already found!!!\n",
    "\n",
    "if...\n",
    "\n",
    "T0 = P(output=0) * P(x1 | output=0) * P(x2 | output=0)\n",
    "\n",
    "T1 = P(output=1) * P(x1 | output=1) * P(x2 | output=1)\n",
    "\n",
    "then...\n",
    "\n",
    "P(output=0 | x1,x2) = T0 / (T0 + T1)\n",
    "\n",
    "P(output=1 | x1,x2) = T1 / (T0 + T1)\n",
    "\n",
    "where...\n",
    "\n",
    "T0 + T1 = P(x1,x2) is the total probability of input (x1,x2)"
   ]
  },
  {
   "cell_type": "code",
   "execution_count": 14,
   "metadata": {},
   "outputs": [],
   "source": [
    "import math\n",
    "def normpdf(x, mean, sd):\n",
    "    var = float(sd)**2\n",
    "    denom = (2*math.pi*var)**.5\n",
    "    num = math.exp(-(float(x)-float(mean))**2/(2*var))\n",
    "    return num/denom"
   ]
  },
  {
   "cell_type": "code",
   "execution_count": 15,
   "metadata": {},
   "outputs": [],
   "source": [
    "def cal_zero(x1,x2): #returns P(output = 0 given x1 and x2) x1 is age x2 is salary\n",
    "    T0 = p_zero * normpdf(x1,mean_nop_ages, sd_nop_ages) * normpdf(x2,mean_nop_sal, sd_nop_sal)\n",
    "    T1 = p_one * normpdf(x1,mean_isp_ages, sd_isp_ages) * normpdf(x2, mean_isp_sal, sd_isp_sal)\n",
    "    return T0/(T0 + T1)\n",
    "\n",
    "def cal_one(x1,x2): #returns P(output = 0 given x1 and x2)\n",
    "    T0 = p_zero * normpdf(x1,mean_nop_ages, sd_nop_ages) * normpdf(x2,mean_nop_sal, sd_nop_sal)\n",
    "    T1 = p_one * normpdf(x1,mean_isp_ages, sd_isp_ages) * normpdf(x2, mean_isp_sal, sd_isp_sal)\n",
    "    return T1/(T0 + T1)\n",
    "    \n",
    "# print(cal_zero(0,0))\n",
    "# print(cal_one(0,0))"
   ]
  },
  {
   "cell_type": "code",
   "execution_count": 16,
   "metadata": {},
   "outputs": [],
   "source": [
    "def predicted_bayes_naive(x1,x2):\n",
    "    if (cal_zero(x1,x2) > cal_one(x1,x2)):\n",
    "        return 0\n",
    "    return 1"
   ]
  },
  {
   "cell_type": "code",
   "execution_count": 17,
   "metadata": {},
   "outputs": [
    {
     "data": {
      "text/html": [
       "<div>\n",
       "<style scoped>\n",
       "    .dataframe tbody tr th:only-of-type {\n",
       "        vertical-align: middle;\n",
       "    }\n",
       "\n",
       "    .dataframe tbody tr th {\n",
       "        vertical-align: top;\n",
       "    }\n",
       "\n",
       "    .dataframe thead th {\n",
       "        text-align: right;\n",
       "    }\n",
       "</style>\n",
       "<table border=\"1\" class=\"dataframe\">\n",
       "  <thead>\n",
       "    <tr style=\"text-align: right;\">\n",
       "      <th></th>\n",
       "      <th>Age</th>\n",
       "      <th>EstimatedSalary</th>\n",
       "      <th>Predicted Bayes Value</th>\n",
       "    </tr>\n",
       "  </thead>\n",
       "  <tbody>\n",
       "    <tr>\n",
       "      <th>0</th>\n",
       "      <td>0</td>\n",
       "      <td>0</td>\n",
       "      <td>0</td>\n",
       "    </tr>\n",
       "    <tr>\n",
       "      <th>1</th>\n",
       "      <td>0</td>\n",
       "      <td>8000</td>\n",
       "      <td>0</td>\n",
       "    </tr>\n",
       "    <tr>\n",
       "      <th>2</th>\n",
       "      <td>0</td>\n",
       "      <td>16000</td>\n",
       "      <td>0</td>\n",
       "    </tr>\n",
       "    <tr>\n",
       "      <th>3</th>\n",
       "      <td>0</td>\n",
       "      <td>24000</td>\n",
       "      <td>0</td>\n",
       "    </tr>\n",
       "    <tr>\n",
       "      <th>4</th>\n",
       "      <td>0</td>\n",
       "      <td>32000</td>\n",
       "      <td>0</td>\n",
       "    </tr>\n",
       "    <tr>\n",
       "      <th>...</th>\n",
       "      <td>...</td>\n",
       "      <td>...</td>\n",
       "      <td>...</td>\n",
       "    </tr>\n",
       "    <tr>\n",
       "      <th>603</th>\n",
       "      <td>62</td>\n",
       "      <td>112000</td>\n",
       "      <td>1</td>\n",
       "    </tr>\n",
       "    <tr>\n",
       "      <th>604</th>\n",
       "      <td>62</td>\n",
       "      <td>120000</td>\n",
       "      <td>1</td>\n",
       "    </tr>\n",
       "    <tr>\n",
       "      <th>605</th>\n",
       "      <td>62</td>\n",
       "      <td>128000</td>\n",
       "      <td>1</td>\n",
       "    </tr>\n",
       "    <tr>\n",
       "      <th>606</th>\n",
       "      <td>62</td>\n",
       "      <td>136000</td>\n",
       "      <td>1</td>\n",
       "    </tr>\n",
       "    <tr>\n",
       "      <th>607</th>\n",
       "      <td>62</td>\n",
       "      <td>144000</td>\n",
       "      <td>1</td>\n",
       "    </tr>\n",
       "  </tbody>\n",
       "</table>\n",
       "<p>608 rows × 3 columns</p>\n",
       "</div>"
      ],
      "text/plain": [
       "     Age  EstimatedSalary  Predicted Bayes Value\n",
       "0      0                0                      0\n",
       "1      0             8000                      0\n",
       "2      0            16000                      0\n",
       "3      0            24000                      0\n",
       "4      0            32000                      0\n",
       "..   ...              ...                    ...\n",
       "603   62           112000                      1\n",
       "604   62           120000                      1\n",
       "605   62           128000                      1\n",
       "606   62           136000                      1\n",
       "607   62           144000                      1\n",
       "\n",
       "[608 rows x 3 columns]"
      ]
     },
     "execution_count": 17,
     "metadata": {},
     "output_type": "execute_result"
    }
   ],
   "source": [
    "predicted_bayes_values = []\n",
    "for x in range(len(ages)):\n",
    "    predicted_bayes_values.append(predicted_bayes_naive(ages[x],money[x]))\n",
    "data_bayes = {'Age' : list(ages), 'EstimatedSalary' : list(money), 'Predicted Bayes Value' : predicted_bayes_values}\n",
    "data_bayes = pd.DataFrame(data_bayes)\n",
    "data_bayes"
   ]
  },
  {
   "cell_type": "code",
   "execution_count": 18,
   "metadata": {},
   "outputs": [
    {
     "data": {
      "text/plain": [
       "<matplotlib.legend.Legend at 0x20f44370790>"
      ]
     },
     "execution_count": 18,
     "metadata": {},
     "output_type": "execute_result"
    },
    {
     "data": {
      "image/png": "[encoded data removed]",
      "text/plain": [
       "<Figure size 432x288 with 1 Axes>"
      ]
     },
     "metadata": {
      "needs_background": "light"
     },
     "output_type": "display_data"
    }
   ],
   "source": [
    "\n",
    "\n",
    "prebayyes = data_bayes['Predicted Bayes Value'] == 1\n",
    "prebayno = data_bayes['Predicted Bayes Value'] == 0\n",
    "\n",
    "predyes = data_bayes[prebayyes] #ispurchased\n",
    "predno = data_bayes[prebayno] #notpurchased\n",
    "\n",
    "\n",
    "plt.plot(predyes.loc[:,\"Age\"], predyes.loc[:,\"EstimatedSalary\"], color='blue', marker='o',linestyle = \"none\", label = \"Purchased\" )\n",
    "plt.plot(predno.loc[:,\"Age\"], predno.loc[:,\"EstimatedSalary\"], color='red', marker='x',linestyle = \"none\", label = \"Not Purchased\")\n",
    "plt.xlabel(\"Age\")\n",
    "plt.ylabel(\"Estimated Salary\")\n",
    "plt.legend()"
   ]
  },
  {
   "cell_type": "markdown",
   "metadata": {},
   "source": [
    "Step 1 and Step 2\n",
    "Step 1\n",
    "\n",
    "Find a line\n",
    "\n",
    "b0 + b1 * x + b2 * y = 0\n",
    "\n",
    "Such that the line separates the data\n",
    "\n",
    "One class should be on one side of the line and the other class should be on the other side of the line\n",
    "\n",
    "HINT... If you calculate b0 + b1 * x + b2 * y for each (x,y) in each class, what do you notice?\n",
    "\n",
    "Find the point in each class closest to your line\n",
    "\n",
    " \n",
    "\n",
    "Step 2\n",
    "\n",
    "Draw a grid\n",
    "\n",
    "At each point (x,y) in the grid\n",
    "\n",
    "Plot it as one class or the other based on which side of the line it is on"
   ]
  },
  {
   "cell_type": "code",
   "execution_count": 19,
   "metadata": {},
   "outputs": [
    {
     "data": {
      "text/html": [
       "<div>\n",
       "<style scoped>\n",
       "    .dataframe tbody tr th:only-of-type {\n",
       "        vertical-align: middle;\n",
       "    }\n",
       "\n",
       "    .dataframe tbody tr th {\n",
       "        vertical-align: top;\n",
       "    }\n",
       "\n",
       "    .dataframe thead th {\n",
       "        text-align: right;\n",
       "    }\n",
       "</style>\n",
       "<table border=\"1\" class=\"dataframe\">\n",
       "  <thead>\n",
       "    <tr style=\"text-align: right;\">\n",
       "      <th></th>\n",
       "      <th>x</th>\n",
       "      <th>y</th>\n",
       "      <th>z</th>\n",
       "    </tr>\n",
       "  </thead>\n",
       "  <tbody>\n",
       "    <tr>\n",
       "      <th>0</th>\n",
       "      <td>-1.50</td>\n",
       "      <td>2.00</td>\n",
       "      <td>0</td>\n",
       "    </tr>\n",
       "    <tr>\n",
       "      <th>1</th>\n",
       "      <td>-1.00</td>\n",
       "      <td>1.50</td>\n",
       "      <td>0</td>\n",
       "    </tr>\n",
       "    <tr>\n",
       "      <th>2</th>\n",
       "      <td>-0.75</td>\n",
       "      <td>3.00</td>\n",
       "      <td>0</td>\n",
       "    </tr>\n",
       "    <tr>\n",
       "      <th>3</th>\n",
       "      <td>-0.70</td>\n",
       "      <td>3.00</td>\n",
       "      <td>0</td>\n",
       "    </tr>\n",
       "    <tr>\n",
       "      <th>4</th>\n",
       "      <td>-0.75</td>\n",
       "      <td>1.00</td>\n",
       "      <td>0</td>\n",
       "    </tr>\n",
       "    <tr>\n",
       "      <th>5</th>\n",
       "      <td>-0.50</td>\n",
       "      <td>-0.25</td>\n",
       "      <td>0</td>\n",
       "    </tr>\n",
       "    <tr>\n",
       "      <th>6</th>\n",
       "      <td>-0.25</td>\n",
       "      <td>0.25</td>\n",
       "      <td>0</td>\n",
       "    </tr>\n",
       "    <tr>\n",
       "      <th>7</th>\n",
       "      <td>0.00</td>\n",
       "      <td>1.50</td>\n",
       "      <td>0</td>\n",
       "    </tr>\n",
       "    <tr>\n",
       "      <th>8</th>\n",
       "      <td>-0.05</td>\n",
       "      <td>1.50</td>\n",
       "      <td>0</td>\n",
       "    </tr>\n",
       "    <tr>\n",
       "      <th>9</th>\n",
       "      <td>-0.25</td>\n",
       "      <td>3.50</td>\n",
       "      <td>0</td>\n",
       "    </tr>\n",
       "    <tr>\n",
       "      <th>10</th>\n",
       "      <td>0.50</td>\n",
       "      <td>3.00</td>\n",
       "      <td>0</td>\n",
       "    </tr>\n",
       "    <tr>\n",
       "      <th>11</th>\n",
       "      <td>1.00</td>\n",
       "      <td>2.00</td>\n",
       "      <td>0</td>\n",
       "    </tr>\n",
       "    <tr>\n",
       "      <th>12</th>\n",
       "      <td>0.50</td>\n",
       "      <td>0.00</td>\n",
       "      <td>1</td>\n",
       "    </tr>\n",
       "    <tr>\n",
       "      <th>13</th>\n",
       "      <td>0.60</td>\n",
       "      <td>-1.00</td>\n",
       "      <td>1</td>\n",
       "    </tr>\n",
       "    <tr>\n",
       "      <th>14</th>\n",
       "      <td>1.00</td>\n",
       "      <td>-1.50</td>\n",
       "      <td>1</td>\n",
       "    </tr>\n",
       "    <tr>\n",
       "      <th>15</th>\n",
       "      <td>1.00</td>\n",
       "      <td>-1.00</td>\n",
       "      <td>1</td>\n",
       "    </tr>\n",
       "    <tr>\n",
       "      <th>16</th>\n",
       "      <td>1.20</td>\n",
       "      <td>-0.80</td>\n",
       "      <td>1</td>\n",
       "    </tr>\n",
       "    <tr>\n",
       "      <th>17</th>\n",
       "      <td>1.50</td>\n",
       "      <td>0.00</td>\n",
       "      <td>1</td>\n",
       "    </tr>\n",
       "    <tr>\n",
       "      <th>18</th>\n",
       "      <td>1.75</td>\n",
       "      <td>0.50</td>\n",
       "      <td>1</td>\n",
       "    </tr>\n",
       "    <tr>\n",
       "      <th>19</th>\n",
       "      <td>2.00</td>\n",
       "      <td>0.75</td>\n",
       "      <td>1</td>\n",
       "    </tr>\n",
       "    <tr>\n",
       "      <th>20</th>\n",
       "      <td>2.20</td>\n",
       "      <td>0.00</td>\n",
       "      <td>1</td>\n",
       "    </tr>\n",
       "    <tr>\n",
       "      <th>21</th>\n",
       "      <td>2.75</td>\n",
       "      <td>-1.00</td>\n",
       "      <td>1</td>\n",
       "    </tr>\n",
       "    <tr>\n",
       "      <th>22</th>\n",
       "      <td>3.25</td>\n",
       "      <td>-1.25</td>\n",
       "      <td>1</td>\n",
       "    </tr>\n",
       "    <tr>\n",
       "      <th>23</th>\n",
       "      <td>3.00</td>\n",
       "      <td>-0.25</td>\n",
       "      <td>1</td>\n",
       "    </tr>\n",
       "  </tbody>\n",
       "</table>\n",
       "</div>"
      ],
      "text/plain": [
       "       x     y  z\n",
       "0  -1.50  2.00  0\n",
       "1  -1.00  1.50  0\n",
       "2  -0.75  3.00  0\n",
       "3  -0.70  3.00  0\n",
       "4  -0.75  1.00  0\n",
       "5  -0.50 -0.25  0\n",
       "6  -0.25  0.25  0\n",
       "7   0.00  1.50  0\n",
       "8  -0.05  1.50  0\n",
       "9  -0.25  3.50  0\n",
       "10  0.50  3.00  0\n",
       "11  1.00  2.00  0\n",
       "12  0.50  0.00  1\n",
       "13  0.60 -1.00  1\n",
       "14  1.00 -1.50  1\n",
       "15  1.00 -1.00  1\n",
       "16  1.20 -0.80  1\n",
       "17  1.50  0.00  1\n",
       "18  1.75  0.50  1\n",
       "19  2.00  0.75  1\n",
       "20  2.20  0.00  1\n",
       "21  2.75 -1.00  1\n",
       "22  3.25 -1.25  1\n",
       "23  3.00 -0.25  1"
      ]
     },
     "execution_count": 19,
     "metadata": {},
     "output_type": "execute_result"
    }
   ],
   "source": [
    "info = pd.read_csv ('data.csv')\n",
    "info"
   ]
  },
  {
   "cell_type": "code",
   "execution_count": 20,
   "metadata": {},
   "outputs": [],
   "source": [
    "pred_1 = info['z'] == 1\n",
    "pred_0 = info['z'] == 0\n",
    "\n",
    "predyes = info[pred_1] #ispurchased\n",
    "predno = info[pred_0] #notpurchased"
   ]
  },
  {
   "cell_type": "code",
   "execution_count": 21,
   "metadata": {},
   "outputs": [
    {
     "name": "stdout",
     "output_type": "stream",
     "text": [
      "(-0.2956056129985229, -0.4392540620384047)\n",
      "(0.29062038404726737, 0.19387001477104876)\n"
     ]
    }
   ],
   "source": [
    "def closestpoint(a,m,b):\n",
    "    (x,y) = a\n",
    "    m2 = -1/m\n",
    "    b2 = y - (x*m2)\n",
    "    x3 = ((b-b2)/(m2-m))\n",
    "    y3 = x3 * m + b\n",
    "    y4 = x3 * m2 + b2\n",
    "    return((x3,y3))\n",
    "\n",
    "print(str(closestpoint((-.5,-.25),1.08, -.12)))\n",
    "print(str(closestpoint((.5,0),1.08, -.12)))\n"
   ]
  },
  {
   "cell_type": "code",
   "execution_count": 22,
   "metadata": {},
   "outputs": [
    {
     "data": {
      "image/png": "[encoded data removed]",
      "text/plain": [
       "<Figure size 432x288 with 1 Axes>"
      ]
     },
     "metadata": {
      "needs_background": "light"
     },
     "output_type": "display_data"
    }
   ],
   "source": [
    "\n",
    "\n",
    "plt.plot(predyes.loc[:,\"x\"], predyes.loc[:,\"y\"], color='blue', marker='o',linestyle = \"none\", label = \"1\" )\n",
    "plt.plot(predno.loc[:,\"x\"], predno.loc[:,\"y\"], color='red', marker='x',linestyle = \"none\", label = \"0\")\n",
    "plt.axline((4, 4.2), slope=1.08)\n",
    "x_points = [-0.2956056129985229,-.5]\n",
    "y_points = [-0.4392540620384047,-.25]\n",
    "plt.plot(x_points, y_points, color=\"black\", linewidth=3)\n",
    "x_points = [0.2956056129985229,.5]\n",
    "y_points = [0.19387001477104876,0]\n",
    "plt.plot(x_points, y_points, color=\"black\", linewidth=3)\n",
    "\n",
    "plt.gca().set_aspect('equal')\n",
    "plt.show()\n"
   ]
  },
  {
   "cell_type": "code",
   "execution_count": 23,
   "metadata": {},
   "outputs": [
    {
     "data": {
      "text/plain": [
       "<matplotlib.lines._AxLine at 0x20f440f94c0>"
      ]
     },
     "execution_count": 23,
     "metadata": {},
     "output_type": "execute_result"
    },
    {
     "data": {
      "image/png": "[encoded data removed]",
      "text/plain": [
       "<Figure size 432x288 with 1 Axes>"
      ]
     },
     "metadata": {
      "needs_background": "light"
     },
     "output_type": "display_data"
    }
   ],
   "source": [
    "val = lambda a: 1.08 * a - .12\n",
    "def predval(x,y):\n",
    "    if (y < val(x)):\n",
    "        return 1\n",
    "    else:\n",
    "        return 0\n",
    "\n",
    "x_vals = [x/10 for x in range(-20,45,4) for z in range(-20,45,4)]\n",
    "y_vals = [y/10  for z in range(-20,45,4) for y in range(-20,45,4)]  \n",
    "z_vals = []\n",
    "for x in range(len(x_vals)):\n",
    "    z_vals.append(predval(x_vals[x],y_vals[x]))\n",
    "    \n",
    "step_2_frame = {'x' : list(x_vals), 'y' : list(y_vals), 'z' : z_vals}\n",
    "step_2_frame = pd.DataFrame(step_2_frame)\n",
    "\n",
    "\n",
    "\n",
    "prebayyes = step_2_frame['z'] == 1\n",
    "prebayno = step_2_frame['z'] == 0\n",
    "\n",
    "predyes = step_2_frame[prebayyes] #ispurchased\n",
    "predno = step_2_frame[prebayno] #notpurchased\n",
    "\n",
    "\n",
    "plt.plot(predyes.loc[:,\"x\"], predyes.loc[:,\"y\"], color='blue', marker='o',linestyle = \"none\", label = \"1\" )\n",
    "plt.plot(predno.loc[:,\"x\"], predno.loc[:,\"y\"], color='red', marker='x',linestyle = \"none\", label = \"0\")\n",
    "plt.xlabel(\"X\")\n",
    "plt.ylabel(\"Y\")\n",
    "plt.legend()\n",
    "plt.axline((4, 4.2), slope=1.08)"
   ]
  },
  {
   "cell_type": "markdown",
   "metadata": {},
   "source": [
    "PCA Plots"
   ]
  },
  {
   "cell_type": "code",
   "execution_count": 24,
   "metadata": {},
   "outputs": [],
   "source": [
    "from sklearn import decomposition"
   ]
  },
  {
   "cell_type": "code",
   "execution_count": 25,
   "metadata": {},
   "outputs": [],
   "source": [
    "def normalize(x_list, y_list):\n",
    "    l = []\n",
    "    x_mean = np.mean(x_list)\n",
    "    y_mean = np.mean(y_list)\n",
    "    x_sd = np.std(x_list)\n",
    "    y_sd = np.std(y_list)\n",
    "    for b in range(len(y_list)):\n",
    "        l.append([(x_list[b] - x_mean)/x_sd,(y_list[b] - y_mean)/y_sd])\n",
    "    return l\n",
    "\n",
    "center = (np.mean(info.loc[:,\"x\"]),np.mean(info.loc[:,\"y\"]))"
   ]
  },
  {
   "cell_type": "code",
   "execution_count": 26,
   "metadata": {},
   "outputs": [
    {
     "name": "stdout",
     "output_type": "stream",
     "text": [
      "[[ 0.70710678 -0.70710678]\n",
      " [-0.70710678 -0.70710678]]\n",
      "[1.66890291 0.41805361]\n",
      "[0.79968264 0.20031736]\n"
     ]
    }
   ],
   "source": [
    "\n",
    "#\n",
    "normalized_data = normalize(info.loc[:,\"x\"],info.loc[:,\"y\"])\n",
    "X = np . array(normalized_data)\n",
    "#\n",
    "pca = decomposition . PCA(n_components = 2)\n",
    "#\n",
    "pca . fit(X)\n",
    "#\n",
    "print(pca.components_)\n",
    "print(pca.explained_variance_)\n",
    "print(pca.explained_variance_ratio_)\n",
    "#"
   ]
  },
  {
   "cell_type": "code",
   "execution_count": 27,
   "metadata": {},
   "outputs": [
    {
     "data": {
      "text/plain": [
       "[[-1.6844322497366688, 0.8915640386972842],\n",
       " [-1.299419164082573, 0.5524588575762887],\n",
       " [-1.1069126212555251, 1.5697744009392756],\n",
       " [-1.0684113126901156, 1.5697744009392756],\n",
       " [-1.1069126212555251, 0.21335367645529307],\n",
       " [-0.9144060784284773, -0.634409276347196],\n",
       " [-0.7218995356014295, -0.2953040952262004],\n",
       " [-0.5293929927743817, 0.5524588575762887],\n",
       " [-0.5678943013397912, 0.5524588575762887],\n",
       " [-0.7218995356014295, 1.908879582060271],\n",
       " [-0.1443799071202859, 1.5697744009392756],\n",
       " [0.24063317853380983, 0.8915640386972842],\n",
       " [-0.1443799071202859, -0.46485668578669814],\n",
       " [-0.06737728998946677, -1.1430670480286895],\n",
       " [0.24063317853380983, -1.482172229149685],\n",
       " [0.24063317853380983, -1.1430670480286895],\n",
       " [0.3946384127954481, -1.007424975580291],\n",
       " [0.6256462641879056, -0.46485668578669814],\n",
       " [0.8181528070149534, -0.12575150466570253],\n",
       " [1.0106593498420013, 0.04380108589479526],\n",
       " [1.1646645841036396, -0.46485668578669814],\n",
       " [1.5881789783231448, -1.1430670480286895],\n",
       " [1.9731920639772407, -1.3126196385891873],\n",
       " [1.7806855211501926, -0.634409276347196]]"
      ]
     },
     "execution_count": 27,
     "metadata": {},
     "output_type": "execute_result"
    }
   ],
   "source": [
    "normalized_data"
   ]
  },
  {
   "cell_type": "code",
   "execution_count": 28,
   "metadata": {},
   "outputs": [
    {
     "data": {
      "text/html": [
       "<div>\n",
       "<style scoped>\n",
       "    .dataframe tbody tr th:only-of-type {\n",
       "        vertical-align: middle;\n",
       "    }\n",
       "\n",
       "    .dataframe tbody tr th {\n",
       "        vertical-align: top;\n",
       "    }\n",
       "\n",
       "    .dataframe thead th {\n",
       "        text-align: right;\n",
       "    }\n",
       "</style>\n",
       "<table border=\"1\" class=\"dataframe\">\n",
       "  <thead>\n",
       "    <tr style=\"text-align: right;\">\n",
       "      <th></th>\n",
       "      <th>x</th>\n",
       "      <th>y</th>\n",
       "      <th>z</th>\n",
       "    </tr>\n",
       "  </thead>\n",
       "  <tbody>\n",
       "    <tr>\n",
       "      <th>0</th>\n",
       "      <td>-1.684432</td>\n",
       "      <td>0.891564</td>\n",
       "      <td>0</td>\n",
       "    </tr>\n",
       "    <tr>\n",
       "      <th>1</th>\n",
       "      <td>-1.299419</td>\n",
       "      <td>0.552459</td>\n",
       "      <td>0</td>\n",
       "    </tr>\n",
       "    <tr>\n",
       "      <th>2</th>\n",
       "      <td>-1.106913</td>\n",
       "      <td>1.569774</td>\n",
       "      <td>0</td>\n",
       "    </tr>\n",
       "    <tr>\n",
       "      <th>3</th>\n",
       "      <td>-1.068411</td>\n",
       "      <td>1.569774</td>\n",
       "      <td>0</td>\n",
       "    </tr>\n",
       "    <tr>\n",
       "      <th>4</th>\n",
       "      <td>-1.106913</td>\n",
       "      <td>0.213354</td>\n",
       "      <td>0</td>\n",
       "    </tr>\n",
       "    <tr>\n",
       "      <th>5</th>\n",
       "      <td>-0.914406</td>\n",
       "      <td>-0.634409</td>\n",
       "      <td>0</td>\n",
       "    </tr>\n",
       "    <tr>\n",
       "      <th>6</th>\n",
       "      <td>-0.721900</td>\n",
       "      <td>-0.295304</td>\n",
       "      <td>0</td>\n",
       "    </tr>\n",
       "    <tr>\n",
       "      <th>7</th>\n",
       "      <td>-0.529393</td>\n",
       "      <td>0.552459</td>\n",
       "      <td>0</td>\n",
       "    </tr>\n",
       "    <tr>\n",
       "      <th>8</th>\n",
       "      <td>-0.567894</td>\n",
       "      <td>0.552459</td>\n",
       "      <td>0</td>\n",
       "    </tr>\n",
       "    <tr>\n",
       "      <th>9</th>\n",
       "      <td>-0.721900</td>\n",
       "      <td>1.908880</td>\n",
       "      <td>0</td>\n",
       "    </tr>\n",
       "    <tr>\n",
       "      <th>10</th>\n",
       "      <td>-0.144380</td>\n",
       "      <td>1.569774</td>\n",
       "      <td>0</td>\n",
       "    </tr>\n",
       "    <tr>\n",
       "      <th>11</th>\n",
       "      <td>0.240633</td>\n",
       "      <td>0.891564</td>\n",
       "      <td>0</td>\n",
       "    </tr>\n",
       "    <tr>\n",
       "      <th>12</th>\n",
       "      <td>-0.144380</td>\n",
       "      <td>-0.464857</td>\n",
       "      <td>1</td>\n",
       "    </tr>\n",
       "    <tr>\n",
       "      <th>13</th>\n",
       "      <td>-0.067377</td>\n",
       "      <td>-1.143067</td>\n",
       "      <td>1</td>\n",
       "    </tr>\n",
       "    <tr>\n",
       "      <th>14</th>\n",
       "      <td>0.240633</td>\n",
       "      <td>-1.482172</td>\n",
       "      <td>1</td>\n",
       "    </tr>\n",
       "    <tr>\n",
       "      <th>15</th>\n",
       "      <td>0.240633</td>\n",
       "      <td>-1.143067</td>\n",
       "      <td>1</td>\n",
       "    </tr>\n",
       "    <tr>\n",
       "      <th>16</th>\n",
       "      <td>0.394638</td>\n",
       "      <td>-1.007425</td>\n",
       "      <td>1</td>\n",
       "    </tr>\n",
       "    <tr>\n",
       "      <th>17</th>\n",
       "      <td>0.625646</td>\n",
       "      <td>-0.464857</td>\n",
       "      <td>1</td>\n",
       "    </tr>\n",
       "    <tr>\n",
       "      <th>18</th>\n",
       "      <td>0.818153</td>\n",
       "      <td>-0.125752</td>\n",
       "      <td>1</td>\n",
       "    </tr>\n",
       "    <tr>\n",
       "      <th>19</th>\n",
       "      <td>1.010659</td>\n",
       "      <td>0.043801</td>\n",
       "      <td>1</td>\n",
       "    </tr>\n",
       "    <tr>\n",
       "      <th>20</th>\n",
       "      <td>1.164665</td>\n",
       "      <td>-0.464857</td>\n",
       "      <td>1</td>\n",
       "    </tr>\n",
       "    <tr>\n",
       "      <th>21</th>\n",
       "      <td>1.588179</td>\n",
       "      <td>-1.143067</td>\n",
       "      <td>1</td>\n",
       "    </tr>\n",
       "    <tr>\n",
       "      <th>22</th>\n",
       "      <td>1.973192</td>\n",
       "      <td>-1.312620</td>\n",
       "      <td>1</td>\n",
       "    </tr>\n",
       "    <tr>\n",
       "      <th>23</th>\n",
       "      <td>1.780686</td>\n",
       "      <td>-0.634409</td>\n",
       "      <td>1</td>\n",
       "    </tr>\n",
       "  </tbody>\n",
       "</table>\n",
       "</div>"
      ],
      "text/plain": [
       "           x         y  z\n",
       "0  -1.684432  0.891564  0\n",
       "1  -1.299419  0.552459  0\n",
       "2  -1.106913  1.569774  0\n",
       "3  -1.068411  1.569774  0\n",
       "4  -1.106913  0.213354  0\n",
       "5  -0.914406 -0.634409  0\n",
       "6  -0.721900 -0.295304  0\n",
       "7  -0.529393  0.552459  0\n",
       "8  -0.567894  0.552459  0\n",
       "9  -0.721900  1.908880  0\n",
       "10 -0.144380  1.569774  0\n",
       "11  0.240633  0.891564  0\n",
       "12 -0.144380 -0.464857  1\n",
       "13 -0.067377 -1.143067  1\n",
       "14  0.240633 -1.482172  1\n",
       "15  0.240633 -1.143067  1\n",
       "16  0.394638 -1.007425  1\n",
       "17  0.625646 -0.464857  1\n",
       "18  0.818153 -0.125752  1\n",
       "19  1.010659  0.043801  1\n",
       "20  1.164665 -0.464857  1\n",
       "21  1.588179 -1.143067  1\n",
       "22  1.973192 -1.312620  1\n",
       "23  1.780686 -0.634409  1"
      ]
     },
     "execution_count": 28,
     "metadata": {},
     "output_type": "execute_result"
    }
   ],
   "source": [
    "normalized_df = {'x': [a[0] for a in normalized_data], 'y': [b[1] for b in normalized_data], 'z' : info.loc[:,\"z\"]}\n",
    "normalized_df = pd.DataFrame(normalized_df)\n",
    "normalized_df"
   ]
  },
  {
   "cell_type": "code",
   "execution_count": 29,
   "metadata": {},
   "outputs": [
    {
     "data": {
      "image/png": "[encoded data removed]",
      "text/plain": [
       "<Figure size 432x288 with 1 Axes>"
      ]
     },
     "metadata": {
      "needs_background": "light"
     },
     "output_type": "display_data"
    }
   ],
   "source": [
    "pred_1_normalized = normalized_df['z'] == 1\n",
    "pred_0_normalized = normalized_df['z'] == 0\n",
    "\n",
    "predyes_normalized = normalized_df[pred_1] #ispurchased\n",
    "predno_normalized = normalized_df[pred_0] #notpurchased\n",
    "\n",
    "plt.plot(predyes_normalized.loc[:,\"x\"], predyes_normalized.loc[:,\"y\"], color='blue', marker='o',linestyle = \"none\", label = \"1\" )\n",
    "plt.plot(predno_normalized.loc[:,\"x\"], predno_normalized.loc[:,\"y\"], color='red', marker='x',linestyle = \"none\", label = \"0\")\n",
    "center = (np.mean(normalized_df.loc[:,\"x\"]),np.mean(normalized_df.loc[:,\"y\"]))\n",
    "plt.axline(center, slope=-1)\n",
    "plt.axline(center, slope= 1)\n",
    "plt.gca().set_aspect('equal')\n"
   ]
  },
  {
   "cell_type": "code",
   "execution_count": 30,
   "metadata": {},
   "outputs": [
    {
     "name": "stdout",
     "output_type": "stream",
     "text": [
      "[ 5 11 12]\n",
      "5 (-0.5, -0.25) 0\n",
      "11 (1.0, 2.0) 0\n",
      "12 (0.5, 0.0) 1\n"
     ]
    }
   ],
   "source": [
    "\n",
    "from sklearn import svm\n",
    "\n",
    "clf = svm.SVC( kernel = 'linear' , C = 100 )\n",
    "\n",
    "xp = ([(info.loc[:,\"x\"][a],info.loc[:,\"y\"][a]) for a in range (len(info.loc[:,\"y\"]))])\n",
    "yp = info.loc[:,\"z\"]\n",
    "\n",
    "clf . fit(xp,yp)\n",
    "\n",
    "print(clf.support_)\n",
    "\n",
    "for j in clf.support_:\n",
    "    print( j , xp[j] , yp[j] )"
   ]
  },
  {
   "cell_type": "code",
   "execution_count": 31,
   "metadata": {},
   "outputs": [
    {
     "ename": "ModuleNotFoundError",
     "evalue": "No module named 'shapely'",
     "output_type": "error",
     "traceback": [
      "\u001b[1;31m---------------------------------------------------------------------------\u001b[0m",
      "\u001b[1;31mModuleNotFoundError\u001b[0m                       Traceback (most recent call last)",
      "\u001b[1;32md:\\Senior Year\\Machine Learning TJ\\ML2\\Quarter4Labs.ipynb Cell 36'\u001b[0m in \u001b[0;36m<cell line: 1>\u001b[1;34m()\u001b[0m\n\u001b[1;32m----> <a href='vscode-notebook-cell:/d%3A/Senior%20Year/Machine%20Learning%20TJ/ML2/Quarter4Labs.ipynb#ch0000035?line=0'>1</a>\u001b[0m \u001b[39mfrom\u001b[39;00m \u001b[39mshapely\u001b[39;00m\u001b[39m.\u001b[39;00m\u001b[39mgeometry\u001b[39;00m \u001b[39mimport\u001b[39;00m Point\n\u001b[0;32m      <a href='vscode-notebook-cell:/d%3A/Senior%20Year/Machine%20Learning%20TJ/ML2/Quarter4Labs.ipynb#ch0000035?line=1'>2</a>\u001b[0m \u001b[39mfrom\u001b[39;00m \u001b[39mshapely\u001b[39;00m\u001b[39m.\u001b[39;00m\u001b[39mgeometry\u001b[39;00m \u001b[39mimport\u001b[39;00m LineString\n\u001b[0;32m      <a href='vscode-notebook-cell:/d%3A/Senior%20Year/Machine%20Learning%20TJ/ML2/Quarter4Labs.ipynb#ch0000035?line=3'>4</a>\u001b[0m point \u001b[39m=\u001b[39m Point(\u001b[39m0.5\u001b[39m, \u001b[39m0.0\u001b[39m)\n",
      "\u001b[1;31mModuleNotFoundError\u001b[0m: No module named 'shapely'"
     ]
    }
   ],
   "source": [
    "from shapely.geometry import Point\n",
    "from shapely.geometry import LineString\n",
    "\n",
    "point = Point(0.5, 0.0)\n",
    "line = LineString([(-0.5, -0.25), (1.0, 2.0)])\n",
    "\n",
    "x = np.array(point.coords[0])\n",
    "\n",
    "u = np.array(line.coords[0])\n",
    "v = np.array(line.coords[len(line.coords)-1])\n",
    "\n",
    "n = v - u\n",
    "n /= np.linalg.norm(n, 2)\n",
    "\n",
    "P = u + n*np.dot(x - u, n)\n",
    "print(P)"
   ]
  },
  {
   "cell_type": "code",
   "execution_count": null,
   "metadata": {},
   "outputs": [
    {
     "data": {
      "image/png": "[encoded data removed]",
      "text/plain": [
       "<Figure size 432x288 with 1 Axes>"
      ]
     },
     "metadata": {
      "needs_background": "light"
     },
     "output_type": "display_data"
    }
   ],
   "source": [
    "m = 2.25/1.5\n",
    "midpoint = (P[0]/2 + .25, P[1]/2 + 0)\n",
    "\n",
    "pred_1 = info['z'] == 1\n",
    "pred_0 = info['z'] == 0\n",
    "\n",
    "predyes = info[pred_1] #ispurchased\n",
    "predno = info[pred_0] #notpurchased\n",
    "\n",
    "plt.plot(predyes.loc[:,\"x\"], predyes.loc[:,\"y\"], color='blue', marker='o',linestyle = \"none\", label = \"1\" )\n",
    "plt.plot(predno.loc[:,\"x\"], predno.loc[:,\"y\"], color='red', marker='x',linestyle = \"none\", label = \"0\")\n",
    "plt.axline(midpoint, slope=m)\n",
    "# plt.gca().set_aspect('equal')\n",
    "plt.show()"
   ]
  },
  {
   "cell_type": "code",
   "execution_count": null,
   "metadata": {},
   "outputs": [
    {
     "name": "stdout",
     "output_type": "stream",
     "text": [
      "Slope: 1.5\n",
      "B: -0.125\n",
      "y = 1.5 x + -0.125\n"
     ]
    }
   ],
   "source": [
    "#find equation\n",
    "print(\"Slope: \" + str(m))\n",
    "b = midpoint[1] - midpoint[0]*m\n",
    "print(\"B: \" + str(b))\n",
    "print(\"y = \" + str(m) + \" x + \" + str(b))"
   ]
  },
  {
   "cell_type": "code",
   "execution_count": null,
   "metadata": {},
   "outputs": [],
   "source": []
  }
 ],
 "metadata": {
  "interpreter": {
   "hash": "ad2bdc8ecc057115af97d19610ffacc2b4e99fae6737bb82f5d7fb13d2f2c186"
  },
  "kernelspec": {
   "display_name": "Python 3.9.7 ('base')",
   "language": "python",
   "name": "python3"
  },
  "language_info": {
   "codemirror_mode": {
    "name": "ipython",
    "version": 3
   },
   "file_extension": ".py",
   "mimetype": "text/x-python",
   "name": "python",
   "nbconvert_exporter": "python",
   "pygments_lexer": "ipython3",
   "version": "3.9.1"
  }
 },
 "nbformat": 4,
 "nbformat_minor": 2
}
